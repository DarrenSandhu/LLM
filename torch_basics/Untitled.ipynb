{
 "cells": [
  {
   "cell_type": "code",
   "execution_count": 2,
   "id": "ff0c8d53-de53-43a4-9f8c-ceff58058584",
   "metadata": {},
   "outputs": [
    {
     "name": "stdout",
     "output_type": "stream",
     "text": [
      "mps\n",
      "cpu\n"
     ]
    }
   ],
   "source": [
    "import torch\n",
    "import time\n",
    "import numpy as np\n",
    "device = 'mps' if torch.mps.is_available() else 'cpu'\n",
    "print(device)\n",
    "print(torch.get_default_device())"
   ]
  },
  {
   "cell_type": "code",
   "execution_count": 6,
   "id": "10b97b5f-b7d0-4096-aad5-1a152665e58a",
   "metadata": {},
   "outputs": [
    {
     "name": "stdout",
     "output_type": "stream",
     "text": [
      "Elapsed Time: 0.00028300\n",
      "cpu\n",
      "CPU times: user 478 µs, sys: 99 µs, total: 577 µs\n",
      "Wall time: 427 µs\n"
     ]
    }
   ],
   "source": [
    "%%time\n",
    "start_time = time.time()\n",
    "\n",
    "# Matrix ops\n",
    "zeros = torch.zeros(1,1)\n",
    "end_time = time.time() - start_time\n",
    "\n",
    "print(f'Elapsed Time: {end_time:.8f}')\n",
    "print(zeros.device)"
   ]
  },
  {
   "cell_type": "code",
   "execution_count": 5,
   "id": "bb2bb8fd-2270-4908-89b4-2746ed954428",
   "metadata": {},
   "outputs": [
    {
     "name": "stdout",
     "output_type": "stream",
     "text": [
      "Elapsed GPU Time: 0.00519109\n",
      "Elapsed CPU Time: 0.05970716\n"
     ]
    }
   ],
   "source": [
    "torch_rand1 = torch.rand(100,100,100,100).to(device)\n",
    "# print(torch_rand1)\n",
    "torch_rand2 = torch.rand(100,100,100,100).to(device)\n",
    "# print(torch_rand2)\n",
    "\n",
    "np_rand1 = torch.rand(100,100,100,100)\n",
    "# print(np_rand1)\n",
    "np_rand2 = torch.rand(100,100,100,100)\n",
    "# print(np_rand2)\n",
    "\n",
    "# GPU Matrix Ops\n",
    "start_time = time.time()\n",
    "\n",
    "rand = (torch_rand1 @ torch_rand2)\n",
    "\n",
    "end_time = time.time() - start_time\n",
    "print(f'Elapsed GPU Time: {end_time:.8f}')\n",
    "\n",
    "# CPU Matrix Ops\n",
    "start_time = time.time()\n",
    "\n",
    "rand = np.multiply(np_rand1, np_rand2)\n",
    "\n",
    "end_time = time.time() - start_time\n",
    "print(f'Elapsed CPU Time: {end_time:.8f}')"
   ]
  },
  {
   "cell_type": "code",
   "execution_count": 21,
   "id": "1c850584-4cb4-40a4-862e-98085561aaa0",
   "metadata": {},
   "outputs": [
    {
     "data": {
      "text/plain": [
       "tensor([0, 0, 0, 0, 0, 0, 0, 0, 0, 0])"
      ]
     },
     "execution_count": 21,
     "metadata": {},
     "output_type": "execute_result"
    }
   ],
   "source": [
    "# Probabilities tensor\n",
    "# First parameter is % => 0, Second is % => 1\n",
    "probabilities = torch.tensor([0.5,0.01])\n",
    "\n",
    "# Draw number of samples using probabilty distribution\n",
    "samples = torch.multinomial(probabilities, num_samples=10, replacement=True)\n",
    "samples\n"
   ]
  },
  {
   "cell_type": "code",
   "execution_count": 24,
   "id": "3847e928-8c89-479b-899d-918c06c35acb",
   "metadata": {},
   "outputs": [
    {
     "data": {
      "text/plain": [
       "tensor([1, 2, 3, 4, 5])"
      ]
     },
     "execution_count": 24,
     "metadata": {},
     "output_type": "execute_result"
    }
   ],
   "source": [
    "tensor = torch.tensor([1,2,3,4])\n",
    "cat = torch.cat((tensor, torch.tensor([5])))\n",
    "cat"
   ]
  },
  {
   "cell_type": "code",
   "execution_count": 27,
   "id": "ece8dbda-ecd6-49fe-a756-efd18126bf29",
   "metadata": {},
   "outputs": [
    {
     "data": {
      "text/plain": [
       "tensor([[1., 0., 0., 0., 0.],\n",
       "        [1., 1., 0., 0., 0.],\n",
       "        [1., 1., 1., 0., 0.],\n",
       "        [1., 1., 1., 1., 0.],\n",
       "        [1., 1., 1., 1., 1.]])"
      ]
     },
     "execution_count": 27,
     "metadata": {},
     "output_type": "execute_result"
    }
   ],
   "source": [
    "triange_lower = torch.tril(torch.ones(5,5))\n",
    "triange_lower"
   ]
  },
  {
   "cell_type": "code",
   "execution_count": 28,
   "id": "fce89865-980f-467d-90e6-6948172f54ac",
   "metadata": {},
   "outputs": [
    {
     "data": {
      "text/plain": [
       "tensor([[1., 1., 1., 1., 1.],\n",
       "        [0., 1., 1., 1., 1.],\n",
       "        [0., 0., 1., 1., 1.],\n",
       "        [0., 0., 0., 1., 1.],\n",
       "        [0., 0., 0., 0., 1.]])"
      ]
     },
     "execution_count": 28,
     "metadata": {},
     "output_type": "execute_result"
    }
   ],
   "source": [
    "triangle_upper = torch.triu(torch.ones(5,5))\n",
    "triangle_upper"
   ]
  },
  {
   "cell_type": "code",
   "execution_count": 33,
   "id": "294a9c04-8339-47f4-b1ff-ca1d109ff27a",
   "metadata": {},
   "outputs": [
    {
     "data": {
      "text/plain": [
       "tensor([[0., -inf, -inf, -inf, -inf],\n",
       "        [0., 0., -inf, -inf, -inf],\n",
       "        [0., 0., 0., -inf, -inf],\n",
       "        [0., 0., 0., 0., -inf],\n",
       "        [0., 0., 0., 0., 0.]])"
      ]
     },
     "execution_count": 33,
     "metadata": {},
     "output_type": "execute_result"
    }
   ],
   "source": [
    "masked_fill = torch.zeros(5,5).masked_fill(torch.tril(torch.ones(5,5)) == 0, float('-inf'))\n",
    "masked_fill"
   ]
  },
  {
   "cell_type": "code",
   "execution_count": 34,
   "id": "bee8e053-3f44-4fa2-aeae-827c9be3b37c",
   "metadata": {},
   "outputs": [
    {
     "data": {
      "text/plain": [
       "tensor([[1., 0., 0., 0., 0.],\n",
       "        [1., 1., 0., 0., 0.],\n",
       "        [1., 1., 1., 0., 0.],\n",
       "        [1., 1., 1., 1., 0.],\n",
       "        [1., 1., 1., 1., 1.]])"
      ]
     },
     "execution_count": 34,
     "metadata": {},
     "output_type": "execute_result"
    }
   ],
   "source": [
    "torch.exp(masked_fill)"
   ]
  },
  {
   "cell_type": "code",
   "execution_count": 37,
   "id": "e28b9013-59c2-4014-a219-4390bdcee1bc",
   "metadata": {},
   "outputs": [
    {
     "name": "stdout",
     "output_type": "stream",
     "text": [
      "tensor([[[0.0840, 0.8864, 0.1589, 0.1865],\n",
      "         [0.4075, 0.5182, 0.6523, 0.6982],\n",
      "         [0.9059, 0.9534, 0.3744, 0.2140]],\n",
      "\n",
      "        [[0.1506, 0.7639, 0.4985, 0.0129],\n",
      "         [0.2929, 0.1405, 0.7912, 0.6455],\n",
      "         [0.8052, 0.7514, 0.1511, 0.1589]]])\n",
      "tensor([[[0.0840, 0.1506],\n",
      "         [0.4075, 0.2929],\n",
      "         [0.9059, 0.8052]],\n",
      "\n",
      "        [[0.8864, 0.7639],\n",
      "         [0.5182, 0.1405],\n",
      "         [0.9534, 0.7514]],\n",
      "\n",
      "        [[0.1589, 0.4985],\n",
      "         [0.6523, 0.7912],\n",
      "         [0.3744, 0.1511]],\n",
      "\n",
      "        [[0.1865, 0.0129],\n",
      "         [0.6982, 0.6455],\n",
      "         [0.2140, 0.1589]]])\n"
     ]
    }
   ],
   "source": [
    "input = torch.rand(2,3,4)\n",
    "print(input)\n",
    "transpose = input.transpose(0,2)\n",
    "print(transpose)"
   ]
  },
  {
   "cell_type": "code",
   "execution_count": 40,
   "id": "a110d70e-0af5-4b67-b1f3-664ea2f67c20",
   "metadata": {},
   "outputs": [
    {
     "name": "stdout",
     "output_type": "stream",
     "text": [
      "tensor([ 4.0156, -9.0152, -8.8550], grad_fn=<SqueezeBackward4>)\n"
     ]
    }
   ],
   "source": [
    "import torch.nn as nn\n",
    "sample = torch.tensor([10.,10.,10.])\n",
    "linear = nn.Linear(3,3, bias=False)\n",
    "print(linear(sample))\n"
   ]
  },
  {
   "cell_type": "code",
   "execution_count": 43,
   "id": "9d6ebf19-28d6-48d1-9f92-8875ef556e74",
   "metadata": {},
   "outputs": [
    {
     "name": "stdout",
     "output_type": "stream",
     "text": [
      "tensor([0.0900, 0.2447, 0.6652])\n"
     ]
    }
   ],
   "source": [
    "import torch.nn.functional as F\n",
    "\n",
    "tensor = torch.tensor([1.0,2.0,3.0])\n",
    "\n",
    "softmax_output = F.softmax(tensor, dim=0)\n",
    "\n",
    "print(softmax_output)"
   ]
  },
  {
   "cell_type": "code",
   "execution_count": null,
   "id": "1f81c1a9-04c3-4f9c-87c8-4798c54e9999",
   "metadata": {},
   "outputs": [],
   "source": [
    "embedding_dim = 5 \n",
    "vocab_size = 81\n",
    "\n",
    "embedding_vector = nn.Embedding(vocab_size, embedding_dim)\n",
    "\n",
    "example_tensor = torch.randint(0, 5,(vocab_size,))\n",
    "embedding_output = embedding_vector(example_tensor)\n",
    "\n",
    "print(embedding_output.shape)\n",
    "print(embedding_output)\n"
   ]
  },
  {
   "cell_type": "code",
   "execution_count": null,
   "id": "f349d1c0-ab57-4a2e-9820-a9569464adcc",
   "metadata": {},
   "outputs": [],
   "source": []
  }
 ],
 "metadata": {
  "kernelspec": {
   "display_name": "mps-gpt",
   "language": "python",
   "name": "mps"
  },
  "language_info": {
   "codemirror_mode": {
    "name": "ipython",
    "version": 3
   },
   "file_extension": ".py",
   "mimetype": "text/x-python",
   "name": "python",
   "nbconvert_exporter": "python",
   "pygments_lexer": "ipython3",
   "version": "3.11.10"
  }
 },
 "nbformat": 4,
 "nbformat_minor": 5
}
